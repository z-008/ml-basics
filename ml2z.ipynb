{
 "cells": [
  {
   "cell_type": "code",
   "execution_count": 2,
   "metadata": {
    "collapsed": true
   },
   "outputs": [],
   "source": [
    "import numpy as np\n",
    "import pandas as pd"
   ]
  },
  {
   "cell_type": "code",
   "execution_count": 21,
   "metadata": {},
   "outputs": [
    {
     "name": "stdout",
     "output_type": "stream",
     "text": [
      "    ID    Age  Income  Gender Marttal Status Buys\n",
      "0    1    <21    High    Male         Single   No\n",
      "1    2    <21    High    Male        Married   No\n",
      "2    3  21-35    High    Male         Single  Yes\n",
      "3    4    >35  Medium    Male         Single  Yes\n",
      "4    5    >35     Low  Female         Single  Yes\n",
      "5    6    >35     Low  Female        Married   No\n",
      "6    7  21-35     Low  Female        Married  Yes\n",
      "7    8    <21  Medium    Male         Single   No\n",
      "8    9    <21     Low  Female        Married  Yes\n",
      "9   10    >35  Medium  Female         Single  Yes\n",
      "10  11    <21  Medium  Female        Married  Yes\n",
      "11  12  21-35  Medium    Male        Married  Yes\n",
      "12  13  21-35    High  Female         Single  Yes\n",
      "13  14    >35  Medium    Male        Married   No\n"
     ]
    }
   ],
   "source": [
    "dataset = pd.read_csv(\"data2.csv\")\n",
    "print (dataset)"
   ]
  },
  {
   "cell_type": "code",
   "execution_count": 28,
   "metadata": {},
   "outputs": [
    {
     "name": "stdout",
     "output_type": "stream",
     "text": [
      "0      No\n",
      "1      No\n",
      "2     Yes\n",
      "3     Yes\n",
      "4     Yes\n",
      "5      No\n",
      "6     Yes\n",
      "7      No\n",
      "8     Yes\n",
      "9     Yes\n",
      "10    Yes\n",
      "11    Yes\n",
      "12    Yes\n",
      "13     No\n",
      "Name: Buys, dtype: object\n"
     ]
    }
   ],
   "source": [
    "X = dataset.iloc[:,1:5]\n",
    "y = dataset.iloc[:,5] \n",
    "print (y)"
   ]
  },
  {
   "cell_type": "code",
   "execution_count": 4,
   "metadata": {},
   "outputs": [
    {
     "name": "stdout",
     "output_type": "stream",
     "text": [
      "    Age  Income  Gender  Marttal Status\n",
      "0     1       0       1               1\n",
      "1     1       0       1               0\n",
      "2     0       0       1               1\n",
      "3     2       2       1               1\n",
      "4     2       1       0               1\n",
      "5     2       1       0               0\n",
      "6     0       1       0               0\n",
      "7     1       2       1               1\n",
      "8     1       1       0               0\n",
      "9     2       2       0               1\n",
      "10    1       2       0               0\n",
      "11    0       2       1               0\n",
      "12    0       0       0               1\n",
      "13    2       2       1               0\n"
     ]
    }
   ],
   "source": [
    "from sklearn.preprocessing import LabelEncoder\n",
    "le = LabelEncoder()\n",
    "X = X.apply(le.fit_transform) # X me output aayega so X = X.apply likhna\n",
    "print(X)"
   ]
  },
  {
   "cell_type": "code",
   "execution_count": 5,
   "metadata": {},
   "outputs": [
    {
     "data": {
      "text/plain": [
       "DecisionTreeClassifier(class_weight=None, criterion='gini', max_depth=None,\n",
       "            max_features=None, max_leaf_nodes=None,\n",
       "            min_impurity_decrease=0.0, min_impurity_split=None,\n",
       "            min_samples_leaf=1, min_samples_split=2,\n",
       "            min_weight_fraction_leaf=0.0, presort=False, random_state=None,\n",
       "            splitter='best')"
      ]
     },
     "execution_count": 5,
     "metadata": {},
     "output_type": "execute_result"
    }
   ],
   "source": [
    "from sklearn.tree import DecisionTreeClassifier\n",
    "classifier = DecisionTreeClassifier()\n",
    "classifier.fit(X,y) # X,y dono aate h"
   ]
  },
  {
   "cell_type": "code",
   "execution_count": 6,
   "metadata": {},
   "outputs": [
    {
     "name": "stdout",
     "output_type": "stream",
     "text": [
      "Prediction ['Yes']\n"
     ]
    }
   ],
   "source": [
    "X_in = np.array([1,1,0,0])\n",
    "y_pred = classifier.predict([X_in])\n",
    "print(\"Prediction\",y_pred)"
   ]
  },
  {
   "cell_type": "code",
   "execution_count": 14,
   "metadata": {
    "collapsed": true
   },
   "outputs": [],
   "source": [
    "\n",
    "from sklearn.tree import export_graphviz\n",
    "\n"
   ]
  },
  {
   "cell_type": "code",
   "execution_count": null,
   "metadata": {
    "collapsed": true
   },
   "outputs": [],
   "source": []
  },
  {
   "cell_type": "code",
   "execution_count": 15,
   "metadata": {
    "collapsed": true
   },
   "outputs": [],
   "source": [
    "import graphviz\n",
    "d = export_graphviz(classifier,out_file=None,filled=True,rounded=True,special_characters=True)"
   ]
  },
  {
   "cell_type": "code",
   "execution_count": 13,
   "metadata": {
    "scrolled": true
   },
   "outputs": [
    {
     "data": {
      "image/svg+xml": [
       "<?xml version=\"1.0\" encoding=\"UTF-8\" standalone=\"no\"?>\n",
       "<!DOCTYPE svg PUBLIC \"-//W3C//DTD SVG 1.1//EN\"\n",
       " \"http://www.w3.org/Graphics/SVG/1.1/DTD/svg11.dtd\">\n",
       "<!-- Generated by graphviz version 2.40.1 (20161225.0304)\n",
       " -->\n",
       "<!-- Title: Tree Pages: 1 -->\n",
       "<svg width=\"507pt\" height=\"558pt\"\n",
       " viewBox=\"0.00 0.00 506.55 558.00\" xmlns=\"http://www.w3.org/2000/svg\" xmlns:xlink=\"http://www.w3.org/1999/xlink\">\n",
       "<g id=\"graph0\" class=\"graph\" transform=\"scale(1 1) rotate(0) translate(4 554)\">\n",
       "<title>Tree</title>\n",
       "<polygon fill=\"#ffffff\" stroke=\"transparent\" points=\"-4,4 -4,-554 502.5547,-554 502.5547,4 -4,4\"/>\n",
       "<!-- 0 -->\n",
       "<g id=\"node1\" class=\"node\">\n",
       "<title>0</title>\n",
       "<path fill=\"#399de5\" fill-opacity=\"0.443137\" stroke=\"#000000\" d=\"M199.9361,-550C199.9361,-550 124.6186,-550 124.6186,-550 118.6186,-550 112.6186,-544 112.6186,-538 112.6186,-538 112.6186,-498 112.6186,-498 112.6186,-492 118.6186,-486 124.6186,-486 124.6186,-486 199.9361,-486 199.9361,-486 205.9361,-486 211.9361,-492 211.9361,-498 211.9361,-498 211.9361,-538 211.9361,-538 211.9361,-544 205.9361,-550 199.9361,-550\"/>\n",
       "<text text-anchor=\"start\" x=\"136.2529\" y=\"-535.8\" font-family=\"Helvetica,sans-Serif\" font-size=\"14.00\" fill=\"#000000\">X</text>\n",
       "<text text-anchor=\"start\" x=\"145.5908\" y=\"-535.8\" font-family=\"Helvetica,sans-Serif\" baseline-shift=\"sub\" font-size=\"14.00\" fill=\"#000000\">0</text>\n",
       "<text text-anchor=\"start\" x=\"153.377\" y=\"-535.8\" font-family=\"Helvetica,sans-Serif\" font-size=\"14.00\" fill=\"#000000\"> ≤ 0.5</text>\n",
       "<text text-anchor=\"start\" x=\"125.8862\" y=\"-521.8\" font-family=\"Helvetica,sans-Serif\" font-size=\"14.00\" fill=\"#000000\">gini = 0.459</text>\n",
       "<text text-anchor=\"start\" x=\"120.4482\" y=\"-507.8\" font-family=\"Helvetica,sans-Serif\" font-size=\"14.00\" fill=\"#000000\">samples = 14</text>\n",
       "<text text-anchor=\"start\" x=\"122\" y=\"-493.8\" font-family=\"Helvetica,sans-Serif\" font-size=\"14.00\" fill=\"#000000\">value = [5, 9]</text>\n",
       "</g>\n",
       "<!-- 1 -->\n",
       "<g id=\"node2\" class=\"node\">\n",
       "<title>1</title>\n",
       "<path fill=\"#399de5\" stroke=\"#000000\" d=\"M140.3331,-443C140.3331,-443 68.2216,-443 68.2216,-443 62.2216,-443 56.2216,-437 56.2216,-431 56.2216,-431 56.2216,-405 56.2216,-405 56.2216,-399 62.2216,-393 68.2216,-393 68.2216,-393 140.3331,-393 140.3331,-393 146.3331,-393 152.3331,-399 152.3331,-405 152.3331,-405 152.3331,-431 152.3331,-431 152.3331,-437 146.3331,-443 140.3331,-443\"/>\n",
       "<text text-anchor=\"start\" x=\"75.6724\" y=\"-427.8\" font-family=\"Helvetica,sans-Serif\" font-size=\"14.00\" fill=\"#000000\">gini = 0.0</text>\n",
       "<text text-anchor=\"start\" x=\"66.3413\" y=\"-413.8\" font-family=\"Helvetica,sans-Serif\" font-size=\"14.00\" fill=\"#000000\">samples = 4</text>\n",
       "<text text-anchor=\"start\" x=\"64\" y=\"-399.8\" font-family=\"Helvetica,sans-Serif\" font-size=\"14.00\" fill=\"#000000\">value = [0, 4]</text>\n",
       "</g>\n",
       "<!-- 0&#45;&gt;1 -->\n",
       "<g id=\"edge1\" class=\"edge\">\n",
       "<title>0&#45;&gt;1</title>\n",
       "<path fill=\"none\" stroke=\"#000000\" d=\"M143.6065,-485.8089C137.3456,-475.0142 130.3458,-462.9456 124.0065,-452.0158\"/>\n",
       "<polygon fill=\"#000000\" stroke=\"#000000\" points=\"126.9124,-450.0498 118.8676,-443.1555 120.8572,-453.5619 126.9124,-450.0498\"/>\n",
       "<text text-anchor=\"middle\" x=\"112.445\" y=\"-463.1165\" font-family=\"Helvetica,sans-Serif\" font-size=\"14.00\" fill=\"#000000\">True</text>\n",
       "</g>\n",
       "<!-- 2 -->\n",
       "<g id=\"node3\" class=\"node\">\n",
       "<title>2</title>\n",
       "<path fill=\"transparent\" stroke=\"#000000\" d=\"M257.9361,-450C257.9361,-450 182.6186,-450 182.6186,-450 176.6186,-450 170.6186,-444 170.6186,-438 170.6186,-438 170.6186,-398 170.6186,-398 170.6186,-392 176.6186,-386 182.6186,-386 182.6186,-386 257.9361,-386 257.9361,-386 263.9361,-386 269.9361,-392 269.9361,-398 269.9361,-398 269.9361,-438 269.9361,-438 269.9361,-444 263.9361,-450 257.9361,-450\"/>\n",
       "<text text-anchor=\"start\" x=\"194.2529\" y=\"-435.8\" font-family=\"Helvetica,sans-Serif\" font-size=\"14.00\" fill=\"#000000\">X</text>\n",
       "<text text-anchor=\"start\" x=\"203.5908\" y=\"-435.8\" font-family=\"Helvetica,sans-Serif\" baseline-shift=\"sub\" font-size=\"14.00\" fill=\"#000000\">2</text>\n",
       "<text text-anchor=\"start\" x=\"211.377\" y=\"-435.8\" font-family=\"Helvetica,sans-Serif\" font-size=\"14.00\" fill=\"#000000\"> ≤ 0.5</text>\n",
       "<text text-anchor=\"start\" x=\"191.6724\" y=\"-421.8\" font-family=\"Helvetica,sans-Serif\" font-size=\"14.00\" fill=\"#000000\">gini = 0.5</text>\n",
       "<text text-anchor=\"start\" x=\"178.4482\" y=\"-407.8\" font-family=\"Helvetica,sans-Serif\" font-size=\"14.00\" fill=\"#000000\">samples = 10</text>\n",
       "<text text-anchor=\"start\" x=\"180\" y=\"-393.8\" font-family=\"Helvetica,sans-Serif\" font-size=\"14.00\" fill=\"#000000\">value = [5, 5]</text>\n",
       "</g>\n",
       "<!-- 0&#45;&gt;2 -->\n",
       "<g id=\"edge2\" class=\"edge\">\n",
       "<title>0&#45;&gt;2</title>\n",
       "<path fill=\"none\" stroke=\"#000000\" d=\"M180.9482,-485.8089C185.9155,-477.2445 191.348,-467.8782 196.5466,-458.915\"/>\n",
       "<polygon fill=\"#000000\" stroke=\"#000000\" points=\"199.6519,-460.5371 201.6415,-450.1308 193.5967,-457.0251 199.6519,-460.5371\"/>\n",
       "<text text-anchor=\"middle\" x=\"208.064\" y=\"-470.0917\" font-family=\"Helvetica,sans-Serif\" font-size=\"14.00\" fill=\"#000000\">False</text>\n",
       "</g>\n",
       "<!-- 3 -->\n",
       "<g id=\"node4\" class=\"node\">\n",
       "<title>3</title>\n",
       "<path fill=\"#399de5\" fill-opacity=\"0.749020\" stroke=\"#000000\" d=\"M199.3331,-350C199.3331,-350 127.2216,-350 127.2216,-350 121.2216,-350 115.2216,-344 115.2216,-338 115.2216,-338 115.2216,-298 115.2216,-298 115.2216,-292 121.2216,-286 127.2216,-286 127.2216,-286 199.3331,-286 199.3331,-286 205.3331,-286 211.3331,-292 211.3331,-298 211.3331,-298 211.3331,-338 211.3331,-338 211.3331,-344 205.3331,-350 199.3331,-350\"/>\n",
       "<text text-anchor=\"start\" x=\"137.2529\" y=\"-335.8\" font-family=\"Helvetica,sans-Serif\" font-size=\"14.00\" fill=\"#000000\">X</text>\n",
       "<text text-anchor=\"start\" x=\"146.5908\" y=\"-335.8\" font-family=\"Helvetica,sans-Serif\" baseline-shift=\"sub\" font-size=\"14.00\" fill=\"#000000\">1</text>\n",
       "<text text-anchor=\"start\" x=\"154.377\" y=\"-335.8\" font-family=\"Helvetica,sans-Serif\" font-size=\"14.00\" fill=\"#000000\"> ≤ 1.5</text>\n",
       "<text text-anchor=\"start\" x=\"130.7793\" y=\"-321.8\" font-family=\"Helvetica,sans-Serif\" font-size=\"14.00\" fill=\"#000000\">gini = 0.32</text>\n",
       "<text text-anchor=\"start\" x=\"125.3413\" y=\"-307.8\" font-family=\"Helvetica,sans-Serif\" font-size=\"14.00\" fill=\"#000000\">samples = 5</text>\n",
       "<text text-anchor=\"start\" x=\"123\" y=\"-293.8\" font-family=\"Helvetica,sans-Serif\" font-size=\"14.00\" fill=\"#000000\">value = [1, 4]</text>\n",
       "</g>\n",
       "<!-- 2&#45;&gt;3 -->\n",
       "<g id=\"edge3\" class=\"edge\">\n",
       "<title>2&#45;&gt;3</title>\n",
       "<path fill=\"none\" stroke=\"#000000\" d=\"M201.9284,-385.8089C197.0467,-377.2445 191.7079,-367.8782 186.5989,-358.915\"/>\n",
       "<polygon fill=\"#000000\" stroke=\"#000000\" points=\"189.5847,-357.0853 181.5919,-350.1308 183.5032,-360.5518 189.5847,-357.0853\"/>\n",
       "</g>\n",
       "<!-- 10 -->\n",
       "<g id=\"node11\" class=\"node\">\n",
       "<title>10</title>\n",
       "<path fill=\"#e58139\" fill-opacity=\"0.749020\" stroke=\"#000000\" d=\"M314.3331,-350C314.3331,-350 242.2216,-350 242.2216,-350 236.2216,-350 230.2216,-344 230.2216,-338 230.2216,-338 230.2216,-298 230.2216,-298 230.2216,-292 236.2216,-286 242.2216,-286 242.2216,-286 314.3331,-286 314.3331,-286 320.3331,-286 326.3331,-292 326.3331,-298 326.3331,-298 326.3331,-338 326.3331,-338 326.3331,-344 320.3331,-350 314.3331,-350\"/>\n",
       "<text text-anchor=\"start\" x=\"252.2529\" y=\"-335.8\" font-family=\"Helvetica,sans-Serif\" font-size=\"14.00\" fill=\"#000000\">X</text>\n",
       "<text text-anchor=\"start\" x=\"261.5908\" y=\"-335.8\" font-family=\"Helvetica,sans-Serif\" baseline-shift=\"sub\" font-size=\"14.00\" fill=\"#000000\">0</text>\n",
       "<text text-anchor=\"start\" x=\"269.377\" y=\"-335.8\" font-family=\"Helvetica,sans-Serif\" font-size=\"14.00\" fill=\"#000000\"> ≤ 1.5</text>\n",
       "<text text-anchor=\"start\" x=\"245.7793\" y=\"-321.8\" font-family=\"Helvetica,sans-Serif\" font-size=\"14.00\" fill=\"#000000\">gini = 0.32</text>\n",
       "<text text-anchor=\"start\" x=\"240.3413\" y=\"-307.8\" font-family=\"Helvetica,sans-Serif\" font-size=\"14.00\" fill=\"#000000\">samples = 5</text>\n",
       "<text text-anchor=\"start\" x=\"238\" y=\"-293.8\" font-family=\"Helvetica,sans-Serif\" font-size=\"14.00\" fill=\"#000000\">value = [4, 1]</text>\n",
       "</g>\n",
       "<!-- 2&#45;&gt;10 -->\n",
       "<g id=\"edge10\" class=\"edge\">\n",
       "<title>2&#45;&gt;10</title>\n",
       "<path fill=\"none\" stroke=\"#000000\" d=\"M238.9482,-385.8089C243.9155,-377.2445 249.348,-367.8782 254.5466,-358.915\"/>\n",
       "<polygon fill=\"#000000\" stroke=\"#000000\" points=\"257.6519,-360.5371 259.6415,-350.1308 251.5967,-357.0251 257.6519,-360.5371\"/>\n",
       "</g>\n",
       "<!-- 4 -->\n",
       "<g id=\"node5\" class=\"node\">\n",
       "<title>4</title>\n",
       "<path fill=\"#399de5\" fill-opacity=\"0.498039\" stroke=\"#000000\" d=\"M84.3331,-250C84.3331,-250 12.2216,-250 12.2216,-250 6.2216,-250 .2216,-244 .2216,-238 .2216,-238 .2216,-198 .2216,-198 .2216,-192 6.2216,-186 12.2216,-186 12.2216,-186 84.3331,-186 84.3331,-186 90.3331,-186 96.3331,-192 96.3331,-198 96.3331,-198 96.3331,-238 96.3331,-238 96.3331,-244 90.3331,-250 84.3331,-250\"/>\n",
       "<text text-anchor=\"start\" x=\"22.2529\" y=\"-235.8\" font-family=\"Helvetica,sans-Serif\" font-size=\"14.00\" fill=\"#000000\">X</text>\n",
       "<text text-anchor=\"start\" x=\"31.5908\" y=\"-235.8\" font-family=\"Helvetica,sans-Serif\" baseline-shift=\"sub\" font-size=\"14.00\" fill=\"#000000\">0</text>\n",
       "<text text-anchor=\"start\" x=\"39.377\" y=\"-235.8\" font-family=\"Helvetica,sans-Serif\" font-size=\"14.00\" fill=\"#000000\"> ≤ 1.5</text>\n",
       "<text text-anchor=\"start\" x=\"11.8862\" y=\"-221.8\" font-family=\"Helvetica,sans-Serif\" font-size=\"14.00\" fill=\"#000000\">gini = 0.444</text>\n",
       "<text text-anchor=\"start\" x=\"10.3413\" y=\"-207.8\" font-family=\"Helvetica,sans-Serif\" font-size=\"14.00\" fill=\"#000000\">samples = 3</text>\n",
       "<text text-anchor=\"start\" x=\"8\" y=\"-193.8\" font-family=\"Helvetica,sans-Serif\" font-size=\"14.00\" fill=\"#000000\">value = [1, 2]</text>\n",
       "</g>\n",
       "<!-- 3&#45;&gt;4 -->\n",
       "<g id=\"edge4\" class=\"edge\">\n",
       "<title>3&#45;&gt;4</title>\n",
       "<path fill=\"none\" stroke=\"#000000\" d=\"M126.2576,-285.8089C115.6904,-276.62 104.0616,-266.508 93.0827,-256.9612\"/>\n",
       "<polygon fill=\"#000000\" stroke=\"#000000\" points=\"95.0704,-254.0515 85.2277,-250.1308 90.4772,-259.3337 95.0704,-254.0515\"/>\n",
       "</g>\n",
       "<!-- 9 -->\n",
       "<g id=\"node10\" class=\"node\">\n",
       "<title>9</title>\n",
       "<path fill=\"#399de5\" stroke=\"#000000\" d=\"M199.3331,-243C199.3331,-243 127.2216,-243 127.2216,-243 121.2216,-243 115.2216,-237 115.2216,-231 115.2216,-231 115.2216,-205 115.2216,-205 115.2216,-199 121.2216,-193 127.2216,-193 127.2216,-193 199.3331,-193 199.3331,-193 205.3331,-193 211.3331,-199 211.3331,-205 211.3331,-205 211.3331,-231 211.3331,-231 211.3331,-237 205.3331,-243 199.3331,-243\"/>\n",
       "<text text-anchor=\"start\" x=\"134.6724\" y=\"-227.8\" font-family=\"Helvetica,sans-Serif\" font-size=\"14.00\" fill=\"#000000\">gini = 0.0</text>\n",
       "<text text-anchor=\"start\" x=\"125.3413\" y=\"-213.8\" font-family=\"Helvetica,sans-Serif\" font-size=\"14.00\" fill=\"#000000\">samples = 2</text>\n",
       "<text text-anchor=\"start\" x=\"123\" y=\"-199.8\" font-family=\"Helvetica,sans-Serif\" font-size=\"14.00\" fill=\"#000000\">value = [0, 2]</text>\n",
       "</g>\n",
       "<!-- 3&#45;&gt;9 -->\n",
       "<g id=\"edge9\" class=\"edge\">\n",
       "<title>3&#45;&gt;9</title>\n",
       "<path fill=\"none\" stroke=\"#000000\" d=\"M163.2773,-285.8089C163.2773,-275.446 163.2773,-263.909 163.2773,-253.3327\"/>\n",
       "<polygon fill=\"#000000\" stroke=\"#000000\" points=\"166.7774,-253.1555 163.2773,-243.1555 159.7774,-253.1556 166.7774,-253.1555\"/>\n",
       "</g>\n",
       "<!-- 5 -->\n",
       "<g id=\"node6\" class=\"node\">\n",
       "<title>5</title>\n",
       "<path fill=\"#399de5\" stroke=\"#000000\" d=\"M84.3331,-143C84.3331,-143 12.2216,-143 12.2216,-143 6.2216,-143 .2216,-137 .2216,-131 .2216,-131 .2216,-105 .2216,-105 .2216,-99 6.2216,-93 12.2216,-93 12.2216,-93 84.3331,-93 84.3331,-93 90.3331,-93 96.3331,-99 96.3331,-105 96.3331,-105 96.3331,-131 96.3331,-131 96.3331,-137 90.3331,-143 84.3331,-143\"/>\n",
       "<text text-anchor=\"start\" x=\"19.6724\" y=\"-127.8\" font-family=\"Helvetica,sans-Serif\" font-size=\"14.00\" fill=\"#000000\">gini = 0.0</text>\n",
       "<text text-anchor=\"start\" x=\"10.3413\" y=\"-113.8\" font-family=\"Helvetica,sans-Serif\" font-size=\"14.00\" fill=\"#000000\">samples = 1</text>\n",
       "<text text-anchor=\"start\" x=\"8\" y=\"-99.8\" font-family=\"Helvetica,sans-Serif\" font-size=\"14.00\" fill=\"#000000\">value = [0, 1]</text>\n",
       "</g>\n",
       "<!-- 4&#45;&gt;5 -->\n",
       "<g id=\"edge5\" class=\"edge\">\n",
       "<title>4&#45;&gt;5</title>\n",
       "<path fill=\"none\" stroke=\"#000000\" d=\"M48.2773,-185.8089C48.2773,-175.446 48.2773,-163.909 48.2773,-153.3327\"/>\n",
       "<polygon fill=\"#000000\" stroke=\"#000000\" points=\"51.7774,-153.1555 48.2773,-143.1555 44.7774,-153.1556 51.7774,-153.1555\"/>\n",
       "</g>\n",
       "<!-- 6 -->\n",
       "<g id=\"node7\" class=\"node\">\n",
       "<title>6</title>\n",
       "<path fill=\"transparent\" stroke=\"#000000\" d=\"M199.3331,-150C199.3331,-150 127.2216,-150 127.2216,-150 121.2216,-150 115.2216,-144 115.2216,-138 115.2216,-138 115.2216,-98 115.2216,-98 115.2216,-92 121.2216,-86 127.2216,-86 127.2216,-86 199.3331,-86 199.3331,-86 205.3331,-86 211.3331,-92 211.3331,-98 211.3331,-98 211.3331,-138 211.3331,-138 211.3331,-144 205.3331,-150 199.3331,-150\"/>\n",
       "<text text-anchor=\"start\" x=\"137.2529\" y=\"-135.8\" font-family=\"Helvetica,sans-Serif\" font-size=\"14.00\" fill=\"#000000\">X</text>\n",
       "<text text-anchor=\"start\" x=\"146.5908\" y=\"-135.8\" font-family=\"Helvetica,sans-Serif\" baseline-shift=\"sub\" font-size=\"14.00\" fill=\"#000000\">3</text>\n",
       "<text text-anchor=\"start\" x=\"154.377\" y=\"-135.8\" font-family=\"Helvetica,sans-Serif\" font-size=\"14.00\" fill=\"#000000\"> ≤ 0.5</text>\n",
       "<text text-anchor=\"start\" x=\"134.6724\" y=\"-121.8\" font-family=\"Helvetica,sans-Serif\" font-size=\"14.00\" fill=\"#000000\">gini = 0.5</text>\n",
       "<text text-anchor=\"start\" x=\"125.3413\" y=\"-107.8\" font-family=\"Helvetica,sans-Serif\" font-size=\"14.00\" fill=\"#000000\">samples = 2</text>\n",
       "<text text-anchor=\"start\" x=\"123\" y=\"-93.8\" font-family=\"Helvetica,sans-Serif\" font-size=\"14.00\" fill=\"#000000\">value = [1, 1]</text>\n",
       "</g>\n",
       "<!-- 4&#45;&gt;6 -->\n",
       "<g id=\"edge6\" class=\"edge\">\n",
       "<title>4&#45;&gt;6</title>\n",
       "<path fill=\"none\" stroke=\"#000000\" d=\"M85.2971,-185.8089C95.8643,-176.62 107.4931,-166.508 118.472,-156.9612\"/>\n",
       "<polygon fill=\"#000000\" stroke=\"#000000\" points=\"121.0775,-159.3337 126.327,-150.1308 116.4843,-154.0515 121.0775,-159.3337\"/>\n",
       "</g>\n",
       "<!-- 7 -->\n",
       "<g id=\"node8\" class=\"node\">\n",
       "<title>7</title>\n",
       "<path fill=\"#e58139\" stroke=\"#000000\" d=\"M142.3331,-50C142.3331,-50 70.2216,-50 70.2216,-50 64.2216,-50 58.2216,-44 58.2216,-38 58.2216,-38 58.2216,-12 58.2216,-12 58.2216,-6 64.2216,0 70.2216,0 70.2216,0 142.3331,0 142.3331,0 148.3331,0 154.3331,-6 154.3331,-12 154.3331,-12 154.3331,-38 154.3331,-38 154.3331,-44 148.3331,-50 142.3331,-50\"/>\n",
       "<text text-anchor=\"start\" x=\"77.6724\" y=\"-34.8\" font-family=\"Helvetica,sans-Serif\" font-size=\"14.00\" fill=\"#000000\">gini = 0.0</text>\n",
       "<text text-anchor=\"start\" x=\"68.3413\" y=\"-20.8\" font-family=\"Helvetica,sans-Serif\" font-size=\"14.00\" fill=\"#000000\">samples = 1</text>\n",
       "<text text-anchor=\"start\" x=\"66\" y=\"-6.8\" font-family=\"Helvetica,sans-Serif\" font-size=\"14.00\" fill=\"#000000\">value = [1, 0]</text>\n",
       "</g>\n",
       "<!-- 6&#45;&gt;7 -->\n",
       "<g id=\"edge7\" class=\"edge\">\n",
       "<title>6&#45;&gt;7</title>\n",
       "<path fill=\"none\" stroke=\"#000000\" d=\"M143.6612,-85.9947C138.251,-77.1676 132.3663,-67.5662 126.901,-58.6491\"/>\n",
       "<polygon fill=\"#000000\" stroke=\"#000000\" points=\"129.8183,-56.7111 121.6085,-50.014 123.8501,-60.369 129.8183,-56.7111\"/>\n",
       "</g>\n",
       "<!-- 8 -->\n",
       "<g id=\"node9\" class=\"node\">\n",
       "<title>8</title>\n",
       "<path fill=\"#399de5\" stroke=\"#000000\" d=\"M257.3331,-50C257.3331,-50 185.2216,-50 185.2216,-50 179.2216,-50 173.2216,-44 173.2216,-38 173.2216,-38 173.2216,-12 173.2216,-12 173.2216,-6 179.2216,0 185.2216,0 185.2216,0 257.3331,0 257.3331,0 263.3331,0 269.3331,-6 269.3331,-12 269.3331,-12 269.3331,-38 269.3331,-38 269.3331,-44 263.3331,-50 257.3331,-50\"/>\n",
       "<text text-anchor=\"start\" x=\"192.6724\" y=\"-34.8\" font-family=\"Helvetica,sans-Serif\" font-size=\"14.00\" fill=\"#000000\">gini = 0.0</text>\n",
       "<text text-anchor=\"start\" x=\"183.3413\" y=\"-20.8\" font-family=\"Helvetica,sans-Serif\" font-size=\"14.00\" fill=\"#000000\">samples = 1</text>\n",
       "<text text-anchor=\"start\" x=\"181\" y=\"-6.8\" font-family=\"Helvetica,sans-Serif\" font-size=\"14.00\" fill=\"#000000\">value = [0, 1]</text>\n",
       "</g>\n",
       "<!-- 6&#45;&gt;8 -->\n",
       "<g id=\"edge8\" class=\"edge\">\n",
       "<title>6&#45;&gt;8</title>\n",
       "<path fill=\"none\" stroke=\"#000000\" d=\"M183.2377,-85.9947C188.7427,-77.1676 194.7307,-67.5662 200.2919,-58.6491\"/>\n",
       "<polygon fill=\"#000000\" stroke=\"#000000\" points=\"203.3552,-60.3513 205.6772,-50.014 197.4156,-56.647 203.3552,-60.3513\"/>\n",
       "</g>\n",
       "<!-- 11 -->\n",
       "<g id=\"node12\" class=\"node\">\n",
       "<title>11</title>\n",
       "<path fill=\"#e58139\" stroke=\"#000000\" d=\"M314.3331,-243C314.3331,-243 242.2216,-243 242.2216,-243 236.2216,-243 230.2216,-237 230.2216,-231 230.2216,-231 230.2216,-205 230.2216,-205 230.2216,-199 236.2216,-193 242.2216,-193 242.2216,-193 314.3331,-193 314.3331,-193 320.3331,-193 326.3331,-199 326.3331,-205 326.3331,-205 326.3331,-231 326.3331,-231 326.3331,-237 320.3331,-243 314.3331,-243\"/>\n",
       "<text text-anchor=\"start\" x=\"249.6724\" y=\"-227.8\" font-family=\"Helvetica,sans-Serif\" font-size=\"14.00\" fill=\"#000000\">gini = 0.0</text>\n",
       "<text text-anchor=\"start\" x=\"240.3413\" y=\"-213.8\" font-family=\"Helvetica,sans-Serif\" font-size=\"14.00\" fill=\"#000000\">samples = 3</text>\n",
       "<text text-anchor=\"start\" x=\"238\" y=\"-199.8\" font-family=\"Helvetica,sans-Serif\" font-size=\"14.00\" fill=\"#000000\">value = [3, 0]</text>\n",
       "</g>\n",
       "<!-- 10&#45;&gt;11 -->\n",
       "<g id=\"edge11\" class=\"edge\">\n",
       "<title>10&#45;&gt;11</title>\n",
       "<path fill=\"none\" stroke=\"#000000\" d=\"M278.2773,-285.8089C278.2773,-275.446 278.2773,-263.909 278.2773,-253.3327\"/>\n",
       "<polygon fill=\"#000000\" stroke=\"#000000\" points=\"281.7774,-253.1555 278.2773,-243.1555 274.7774,-253.1556 281.7774,-253.1555\"/>\n",
       "</g>\n",
       "<!-- 12 -->\n",
       "<g id=\"node13\" class=\"node\">\n",
       "<title>12</title>\n",
       "<path fill=\"transparent\" stroke=\"#000000\" d=\"M429.3331,-250C429.3331,-250 357.2216,-250 357.2216,-250 351.2216,-250 345.2216,-244 345.2216,-238 345.2216,-238 345.2216,-198 345.2216,-198 345.2216,-192 351.2216,-186 357.2216,-186 357.2216,-186 429.3331,-186 429.3331,-186 435.3331,-186 441.3331,-192 441.3331,-198 441.3331,-198 441.3331,-238 441.3331,-238 441.3331,-244 435.3331,-250 429.3331,-250\"/>\n",
       "<text text-anchor=\"start\" x=\"367.2529\" y=\"-235.8\" font-family=\"Helvetica,sans-Serif\" font-size=\"14.00\" fill=\"#000000\">X</text>\n",
       "<text text-anchor=\"start\" x=\"376.5908\" y=\"-235.8\" font-family=\"Helvetica,sans-Serif\" baseline-shift=\"sub\" font-size=\"14.00\" fill=\"#000000\">3</text>\n",
       "<text text-anchor=\"start\" x=\"384.377\" y=\"-235.8\" font-family=\"Helvetica,sans-Serif\" font-size=\"14.00\" fill=\"#000000\"> ≤ 0.5</text>\n",
       "<text text-anchor=\"start\" x=\"364.6724\" y=\"-221.8\" font-family=\"Helvetica,sans-Serif\" font-size=\"14.00\" fill=\"#000000\">gini = 0.5</text>\n",
       "<text text-anchor=\"start\" x=\"355.3413\" y=\"-207.8\" font-family=\"Helvetica,sans-Serif\" font-size=\"14.00\" fill=\"#000000\">samples = 2</text>\n",
       "<text text-anchor=\"start\" x=\"353\" y=\"-193.8\" font-family=\"Helvetica,sans-Serif\" font-size=\"14.00\" fill=\"#000000\">value = [1, 1]</text>\n",
       "</g>\n",
       "<!-- 10&#45;&gt;12 -->\n",
       "<g id=\"edge12\" class=\"edge\">\n",
       "<title>10&#45;&gt;12</title>\n",
       "<path fill=\"none\" stroke=\"#000000\" d=\"M315.2971,-285.8089C325.8643,-276.62 337.4931,-266.508 348.472,-256.9612\"/>\n",
       "<polygon fill=\"#000000\" stroke=\"#000000\" points=\"351.0775,-259.3337 356.327,-250.1308 346.4843,-254.0515 351.0775,-259.3337\"/>\n",
       "</g>\n",
       "<!-- 13 -->\n",
       "<g id=\"node14\" class=\"node\">\n",
       "<title>13</title>\n",
       "<path fill=\"#e58139\" stroke=\"#000000\" d=\"M371.3331,-143C371.3331,-143 299.2216,-143 299.2216,-143 293.2216,-143 287.2216,-137 287.2216,-131 287.2216,-131 287.2216,-105 287.2216,-105 287.2216,-99 293.2216,-93 299.2216,-93 299.2216,-93 371.3331,-93 371.3331,-93 377.3331,-93 383.3331,-99 383.3331,-105 383.3331,-105 383.3331,-131 383.3331,-131 383.3331,-137 377.3331,-143 371.3331,-143\"/>\n",
       "<text text-anchor=\"start\" x=\"306.6724\" y=\"-127.8\" font-family=\"Helvetica,sans-Serif\" font-size=\"14.00\" fill=\"#000000\">gini = 0.0</text>\n",
       "<text text-anchor=\"start\" x=\"297.3413\" y=\"-113.8\" font-family=\"Helvetica,sans-Serif\" font-size=\"14.00\" fill=\"#000000\">samples = 1</text>\n",
       "<text text-anchor=\"start\" x=\"295\" y=\"-99.8\" font-family=\"Helvetica,sans-Serif\" font-size=\"14.00\" fill=\"#000000\">value = [1, 0]</text>\n",
       "</g>\n",
       "<!-- 12&#45;&gt;13 -->\n",
       "<g id=\"edge13\" class=\"edge\">\n",
       "<title>12&#45;&gt;13</title>\n",
       "<path fill=\"none\" stroke=\"#000000\" d=\"M374.6065,-185.8089C368.3456,-175.0142 361.3458,-162.9456 355.0065,-152.0158\"/>\n",
       "<polygon fill=\"#000000\" stroke=\"#000000\" points=\"357.9124,-150.0498 349.8676,-143.1555 351.8572,-153.5619 357.9124,-150.0498\"/>\n",
       "</g>\n",
       "<!-- 14 -->\n",
       "<g id=\"node15\" class=\"node\">\n",
       "<title>14</title>\n",
       "<path fill=\"#399de5\" stroke=\"#000000\" d=\"M486.3331,-143C486.3331,-143 414.2216,-143 414.2216,-143 408.2216,-143 402.2216,-137 402.2216,-131 402.2216,-131 402.2216,-105 402.2216,-105 402.2216,-99 408.2216,-93 414.2216,-93 414.2216,-93 486.3331,-93 486.3331,-93 492.3331,-93 498.3331,-99 498.3331,-105 498.3331,-105 498.3331,-131 498.3331,-131 498.3331,-137 492.3331,-143 486.3331,-143\"/>\n",
       "<text text-anchor=\"start\" x=\"421.6724\" y=\"-127.8\" font-family=\"Helvetica,sans-Serif\" font-size=\"14.00\" fill=\"#000000\">gini = 0.0</text>\n",
       "<text text-anchor=\"start\" x=\"412.3413\" y=\"-113.8\" font-family=\"Helvetica,sans-Serif\" font-size=\"14.00\" fill=\"#000000\">samples = 1</text>\n",
       "<text text-anchor=\"start\" x=\"410\" y=\"-99.8\" font-family=\"Helvetica,sans-Serif\" font-size=\"14.00\" fill=\"#000000\">value = [0, 1]</text>\n",
       "</g>\n",
       "<!-- 12&#45;&gt;14 -->\n",
       "<g id=\"edge14\" class=\"edge\">\n",
       "<title>12&#45;&gt;14</title>\n",
       "<path fill=\"none\" stroke=\"#000000\" d=\"M411.6263,-185.8089C417.7792,-175.0142 424.6584,-162.9456 430.8884,-152.0158\"/>\n",
       "<polygon fill=\"#000000\" stroke=\"#000000\" points=\"434.0273,-153.5766 435.9387,-143.1555 427.9459,-150.1101 434.0273,-153.5766\"/>\n",
       "</g>\n",
       "</g>\n",
       "</svg>\n"
      ],
      "text/plain": [
       "<graphviz.files.Source at 0x110e01358>"
      ]
     },
     "execution_count": 13,
     "metadata": {},
     "output_type": "execute_result"
    }
   ],
   "source": [
    "graphviz.Source(d)"
   ]
  },
  {
   "cell_type": "code",
   "execution_count": null,
   "metadata": {
    "collapsed": true
   },
   "outputs": [],
   "source": [
    "\n",
    "\n",
    "\n"
   ]
  },
  {
   "cell_type": "code",
   "execution_count": null,
   "metadata": {
    "collapsed": true
   },
   "outputs": [],
   "source": []
  }
 ],
 "metadata": {
  "kernelspec": {
   "display_name": "Python [Root]",
   "language": "python",
   "name": "Python [Root]"
  },
  "language_info": {
   "codemirror_mode": {
    "name": "ipython",
    "version": 3
   },
   "file_extension": ".py",
   "mimetype": "text/x-python",
   "name": "python",
   "nbconvert_exporter": "python",
   "pygments_lexer": "ipython3",
   "version": "3.6.1"
  }
 },
 "nbformat": 4,
 "nbformat_minor": 2
}

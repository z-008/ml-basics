{
 "cells": [
  {
   "cell_type": "code",
   "execution_count": 1,
   "metadata": {
    "collapsed": true
   },
   "outputs": [],
   "source": [
    "import numpy as np\n",
    "import matplotlib.pyplot as plt\n",
    "import pandas as pd\n"
   ]
  },
  {
   "cell_type": "code",
   "execution_count": 4,
   "metadata": {},
   "outputs": [
    {
     "name": "stdout",
     "output_type": "stream",
     "text": [
      "[[ 0.1   0.6 ]\n",
      " [ 0.15  0.71]\n",
      " [ 0.08  0.9 ]\n",
      " [ 0.16  0.85]\n",
      " [ 0.2   0.3 ]\n",
      " [ 0.25  0.5 ]\n",
      " [ 0.24  0.1 ]\n",
      " [ 0.3   0.2 ]]\n"
     ]
    }
   ],
   "source": [
    "df = pd.DataFrame({'X':[0.1,0.15,0.08,0.16,0.2,0.25,0.24,0.3],\n",
    "                    'y':[0.6,0.71,0.9,0.85,0.3,0.5,0.1,0.2]})\n",
    "f1 = df['X'].values\n",
    "f2 = df['y'].values\n",
    "X = np.array(list(zip(f1,f2)))\n",
    "print (X)\n"
   ]
  },
  {
   "cell_type": "code",
   "execution_count": 5,
   "metadata": {
    "collapsed": true
   },
   "outputs": [],
   "source": [
    "C_x = np.array([0.1,0.3])\n",
    "C_y = np.array([0.6,0.2])\n",
    "centroid = C_x,C_y"
   ]
  },
  {
   "cell_type": "code",
   "execution_count": 7,
   "metadata": {},
   "outputs": [
    {
     "name": "stdout",
     "output_type": "stream",
     "text": [
      "[0 0 0 0 1 1 1 1]\n"
     ]
    }
   ],
   "source": [
    "from sklearn.cluster import KMeans\n",
    "model = KMeans(n_clusters = 2)\n",
    "model.fit(X)\n",
    "labels = model.labels_\n",
    "print(labels)"
   ]
  },
  {
   "cell_type": "code",
   "execution_count": 8,
   "metadata": {},
   "outputs": [
    {
     "name": "stdout",
     "output_type": "stream",
     "text": [
      "P6[0.25,0.5] belong to: 2\n"
     ]
    }
   ],
   "source": [
    "print(\"P6[0.25,0.5] belong to: \"+str(labels[5]+1))"
   ]
  },
  {
   "cell_type": "code",
   "execution_count": 16,
   "metadata": {},
   "outputs": [
    {
     "name": "stdout",
     "output_type": "stream",
     "text": [
      "4\n",
      "Poupulation around cluster 2:  4\n"
     ]
    }
   ],
   "source": [
    "count = 0\n",
    "for i in range(0,len(labels)):\n",
    "    if(labels[i]==1):\n",
    "        count +=1\n",
    "print (count)\n",
    "print(\"Poupulation around cluster 2: \",count)"
   ]
  },
  {
   "cell_type": "code",
   "execution_count": 15,
   "metadata": {
    "collapsed": true
   },
   "outputs": [],
   "source": [
    "new_centroid = model.cluster_centers_"
   ]
  },
  {
   "cell_type": "code",
   "execution_count": 18,
   "metadata": {},
   "outputs": [
    {
     "name": "stdout",
     "output_type": "stream",
     "text": [
      "Previous value of m1 and m2\n",
      "M1= [ 0.1  0.3]\n",
      "M2= [ 0.6  0.2]\n"
     ]
    }
   ],
   "source": [
    "print(\"Previous value of m1 and m2\")\n",
    "print(\"M1=\",centroid[0])\n",
    "print(\"M2=\",centroid[1])"
   ]
  },
  {
   "cell_type": "code",
   "execution_count": 19,
   "metadata": {},
   "outputs": [
    {
     "name": "stdout",
     "output_type": "stream",
     "text": [
      "New value of m1 and m2\n",
      "M1= [ 0.1225  0.765 ]\n",
      "M2= [ 0.2475  0.275 ]\n"
     ]
    }
   ],
   "source": [
    "print(\"New value of m1 and m2\")\n",
    "print(\"M1=\",new_centroid[0])\n",
    "print(\"M2=\",new_centroid[1])"
   ]
  },
  {
   "cell_type": "code",
   "execution_count": 20,
   "metadata": {},
   "outputs": [
    {
     "data": {
      "image/png": "[encoded data removed]",
      "text/plain": [
       "<matplotlib.figure.Figure at 0x119139198>"
      ]
     },
     "metadata": {},
     "output_type": "display_data"
    }
   ],
   "source": [
    "for i in range(0,len(labels)):\n",
    "    if(labels[i]==1):\n",
    "        plt.scatter(X[i][0],X[i][1],color = 'red')\n",
    "    else:\n",
    "        plt.scatter(X[i][0],X[i][1],color = 'green')\n",
    "plt.show()"
   ]
  },
  {
   "cell_type": "code",
   "execution_count": null,
   "metadata": {
    "collapsed": true
   },
   "outputs": [],
   "source": []
  }
 ],
 "metadata": {
  "kernelspec": {
   "display_name": "Python [Root]",
   "language": "python",
   "name": "Python [Root]"
  },
  "language_info": {
   "codemirror_mode": {
    "name": "ipython",
    "version": 3
   },
   "file_extension": ".py",
   "mimetype": "text/x-python",
   "name": "python",
   "nbconvert_exporter": "python",
   "pygments_lexer": "ipython3",
   "version": "3.6.1"
  }
 },
 "nbformat": 4,
 "nbformat_minor": 2
}

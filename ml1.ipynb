{
 "cells": [
  {
   "cell_type": "code",
   "execution_count": 1,
   "metadata": {
    "collapsed": true
   },
   "outputs": [],
   "source": [
    "import matplotlib.pyplot as plt\n",
    "import pandas as pd"
   ]
  },
  {
   "cell_type": "code",
   "execution_count": 9,
   "metadata": {},
   "outputs": [
    {
     "name": "stdout",
     "output_type": "stream",
     "text": [
      "   10  95\n",
      "0   9  80\n",
      "1   2  10\n",
      "2  15  50\n",
      "3  10  45\n",
      "4  16  98\n",
      "5  11  38\n",
      "6  16  93\n",
      "[[ 9]\n",
      " [ 2]\n",
      " [15]\n",
      " [10]\n",
      " [16]\n",
      " [11]\n",
      " [16]]\n",
      "[80 10 50 45 98 38 93]\n"
     ]
    }
   ],
   "source": [
    "dataset = pd.read_csv(\"data1.csv\")\n",
    "print(dataset)\n",
    "X = dataset.iloc[:,:-1].values\n",
    "y = dataset.iloc[:,-1].values\n",
    "print(X)\n",
    "print(y)\n"
   ]
  },
  {
   "cell_type": "code",
   "execution_count": 12,
   "metadata": {},
   "outputs": [
    {
     "name": "stdout",
     "output_type": "stream",
     "text": [
      "Accuracy is: 58.2505011077\n"
     ]
    }
   ],
   "source": [
    "from sklearn.linear_model import LinearRegression\n",
    "regressor = LinearRegression()\n",
    "regressor.fit(X,y)\n",
    "Accuracy = regressor.score(X,y)*100\n",
    "print(\"Accuracy is: \"+str(Accuracy))\n"
   ]
  },
  {
   "cell_type": "code",
   "execution_count": 17,
   "metadata": {},
   "outputs": [
    {
     "name": "stdout",
     "output_type": "stream",
     "text": [
      "Enter no of hours: 6\n",
      "Risk Score is: [ 33.25283019]\n"
     ]
    }
   ],
   "source": [
    "hours = int(input(\"Enter no of hours: \"))\n",
    "\n",
    "y_pred = regressor.predict([[hours]])\n",
    "\n",
    "print(\"Risk Score is: \"+str(y_pred))\n"
   ]
  },
  {
   "cell_type": "code",
   "execution_count": 18,
   "metadata": {},
   "outputs": [
    {
     "name": "stdout",
     "output_type": "stream",
     "text": [
      "The equation of line is: Risk score = 4.898113 * hours + 3.864151\n"
     ]
    }
   ],
   "source": [
    "print(\"The equation of line is: Risk score = %f * hours + %f\"%(regressor.coef_,regressor.intercept_))"
   ]
  },
  {
   "cell_type": "code",
   "execution_count": null,
   "metadata": {
    "collapsed": true
   },
   "outputs": [],
   "source": []
  }
 ],
 "metadata": {
  "kernelspec": {
   "display_name": "Python [Root]",
   "language": "python",
   "name": "Python [Root]"
  },
  "language_info": {
   "codemirror_mode": {
    "name": "ipython",
    "version": 3
   },
   "file_extension": ".py",
   "mimetype": "text/x-python",
   "name": "python",
   "nbconvert_exporter": "python",
   "pygments_lexer": "ipython3",
   "version": "3.6.1"
  }
 },
 "nbformat": 4,
 "nbformat_minor": 2
}
